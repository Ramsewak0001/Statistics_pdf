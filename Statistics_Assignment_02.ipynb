{
 "cells": [
  {
   "cell_type": "code",
   "execution_count": null,
   "id": "88945c6a-0c20-46f6-b5d8-6904b5b485b4",
   "metadata": {},
   "outputs": [],
   "source": [
    "Q1. What is the Probability density function?"
   ]
  },
  {
   "cell_type": "code",
   "execution_count": null,
   "id": "f1664b89-1ca0-45d8-8c60-071ea66b8908",
   "metadata": {},
   "outputs": [],
   "source": [
    "Ans: The Probability Density Function (PDF) is a fundamental concept in probability theory and statistics.\n",
    "     It describes the probability distribution of a continuous random variable. In simpler terms, the PDF\n",
    "     provides a way to understand how likely different values of a continuous random variable."
   ]
  },
  {
   "cell_type": "code",
   "execution_count": null,
   "id": "efbc089a-c92a-4ed8-9842-166d186422bb",
   "metadata": {},
   "outputs": [],
   "source": [
    "Q2. What are the types of Probability distribution?"
   ]
  },
  {
   "cell_type": "code",
   "execution_count": null,
   "id": "0738c9f9-62a7-4a45-9d43-08c665da0f47",
   "metadata": {},
   "outputs": [],
   "source": [
    "Ans: There are two types of probability distributions: discrete probability distributions and continuous probability distributions.\n",
    "     Within each category, there are many types of probability distributions.\n",
    "     Examples of probability distributions include:\n",
    "     Binomial distribution\n",
    "     Poisson distribution\n",
    "     Uniform distribution\n",
    "     Standard normal distribution\n",
    "     F distribution\n",
    "     Student’s t distribution"
   ]
  },
  {
   "cell_type": "code",
   "execution_count": null,
   "id": "60c2ae44-cebb-45b7-af6d-9cfb2c755ae3",
   "metadata": {},
   "outputs": [],
   "source": [
    "Q3. Write a Python function to calculate the probability density function of a normal distribution with\n",
    "    given mean and standard deviation at a given point."
   ]
  },
  {
   "cell_type": "code",
   "execution_count": 13,
   "id": "7c6e7ba5-3b64-48ba-86db-06e603953896",
   "metadata": {},
   "outputs": [],
   "source": [
    "data = [1,3,7,3,1]"
   ]
  },
  {
   "cell_type": "code",
   "execution_count": 14,
   "id": "25875a90-8f14-497f-aa82-3ba8fd0b33c2",
   "metadata": {},
   "outputs": [],
   "source": [
    "import numpy as np\n",
    "mean = np.mean(data)\n",
    "std = np.std(data)"
   ]
  },
  {
   "cell_type": "code",
   "execution_count": 15,
   "id": "b5fa582f-6a12-44d7-8cda-b2e89a5a45aa",
   "metadata": {},
   "outputs": [
    {
     "data": {
      "text/plain": [
       "0.03439262390955184"
      ]
     },
     "execution_count": 15,
     "metadata": {},
     "output_type": "execute_result"
    }
   ],
   "source": [
    "import scipy.stats as stats\n",
    "pdf = stats.norm.pdf(7,loc = mean,scale=std)\n",
    "pdf"
   ]
  },
  {
   "cell_type": "code",
   "execution_count": null,
   "id": "cb6b80d6-e8cc-4591-8be1-bf5d372cc13b",
   "metadata": {},
   "outputs": [],
   "source": [
    "Q4. What are the properties of Binomial distribution? Give two examples of events where binomial\n",
    "    distribution can be applied."
   ]
  },
  {
   "cell_type": "code",
   "execution_count": null,
   "id": "042f8fa7-1ae5-4cbe-aeb1-7b46adc2c695",
   "metadata": {},
   "outputs": [],
   "source": [
    "Ans: The properties of binomial distribution are:\n",
    "     There are only two distinct possible outcomes: true/false, success/failure, yes/no.\n",
    "     There is a fixed number of ‘n’ times repeated trials in a given experiment.\n",
    "     The probability of success or failure remains constant for each attempt/trial.\n",
    "     Only the successful attempts are calculated out of ‘n’ independent trials.\n",
    " \n",
    "     It is applied in coin tossing experiments, sampling inspection plan, genetic experiments and so on."
   ]
  },
  {
   "cell_type": "code",
   "execution_count": null,
   "id": "bbf67860-4347-4c09-a18f-c7217b8634d7",
   "metadata": {},
   "outputs": [],
   "source": [
    "Q5. Generate a random sample of size 1000 from a binomial distribution with probability of success 0.4\n",
    "    and plot a histogram of the results using matplotlib."
   ]
  },
  {
   "cell_type": "code",
   "execution_count": 19,
   "id": "bdd0f95d-f131-44fe-a8b6-84439681064d",
   "metadata": {},
   "outputs": [
    {
     "data": {
      "text/plain": [
       "array([428, 411, 396, 403, 359, 395, 389, 414, 399, 398, 371, 399, 399,\n",
       "       399, 409, 381, 417, 403, 433, 393, 403, 375, 404, 378, 412, 396,\n",
       "       399, 403, 386, 396, 414, 409, 380, 396, 405, 407, 389, 396, 383,\n",
       "       401, 403, 448, 354, 393, 383, 372, 405, 387, 400, 383, 403, 406,\n",
       "       400, 413, 400, 412, 404, 406, 407, 400, 390, 399, 404, 415, 398,\n",
       "       421, 396, 410, 383, 405, 396, 417, 406, 379, 385, 385, 375, 410,\n",
       "       391, 397, 402, 401, 402, 426, 412, 406, 429, 388, 382, 399, 376,\n",
       "       426, 404, 434, 371, 389, 412, 401, 381, 415, 395, 396, 403, 387,\n",
       "       391, 410, 393, 387, 392, 403, 385, 403, 372, 433, 428, 423, 413,\n",
       "       419, 396, 397, 395, 403, 396, 437, 405, 406, 420, 387, 393, 414,\n",
       "       409, 387, 382, 390, 363, 364, 399, 432, 412, 397, 400, 405, 392,\n",
       "       412, 401, 426, 418, 410, 418, 401, 410, 426, 365, 388, 382, 412,\n",
       "       411, 409, 404, 408, 419, 394, 384, 391, 376, 369, 390, 410, 415,\n",
       "       396, 413, 384, 409, 399, 432, 430, 376, 402, 378, 430, 407, 411,\n",
       "       407, 406, 404, 389, 394, 404, 410, 387, 398, 404, 407, 391, 400,\n",
       "       388, 399, 402, 376, 399, 411, 388, 392, 383, 413, 378, 415, 404,\n",
       "       385, 417, 385, 403, 411, 396, 385, 414, 378, 395, 394, 410, 393,\n",
       "       421, 387, 388, 417, 411, 425, 381, 398, 385, 411, 408, 397, 418,\n",
       "       394, 420, 421, 413, 392, 393, 403, 416, 411, 391, 398, 385, 424,\n",
       "       410, 405, 418, 380, 379, 410, 407, 416, 376, 394, 391, 398, 400,\n",
       "       411, 396, 388, 404, 430, 403, 408, 380, 404, 378, 393, 387, 393,\n",
       "       407, 379, 378, 394, 409, 418, 395, 429, 395, 409, 407, 421, 384,\n",
       "       374, 390, 404, 422, 405, 371, 388, 412, 379, 410, 405, 397, 406,\n",
       "       405, 408, 406, 413, 388, 396, 388, 401, 385, 426, 394, 415, 368,\n",
       "       378, 396, 388, 396, 382, 391, 423, 430, 418, 410, 391, 421, 429,\n",
       "       374, 411, 375, 433, 392, 426, 409, 389, 398, 390, 395, 396, 395,\n",
       "       398, 384, 411, 417, 404, 396, 412, 388, 398, 391, 423, 387, 398,\n",
       "       391, 379, 413, 414, 399, 400, 385, 397, 414, 388, 403, 386, 415,\n",
       "       412, 412, 392, 402, 414, 426, 397, 378, 402, 395, 391, 404, 378,\n",
       "       398, 362, 386, 393, 414, 397, 392, 373, 385, 392, 392, 385, 417,\n",
       "       410, 420, 377, 415, 387, 393, 410, 381, 394, 372, 397, 404, 410,\n",
       "       417, 380, 370, 391, 418, 389, 411, 395, 395, 404, 398, 372, 406,\n",
       "       386, 403, 419, 404, 407, 396, 399, 399, 402, 418, 411, 378, 439,\n",
       "       407, 394, 396, 417, 401, 409, 394, 383, 399, 385, 407, 420, 393,\n",
       "       417, 404, 412, 371, 387, 413, 392, 401, 360, 383, 402, 399, 367,\n",
       "       427, 425, 414, 393, 388, 416, 419, 408, 395, 388, 389, 392, 381,\n",
       "       416, 405, 408, 408, 413, 369, 376, 405, 403, 404, 381, 411, 382,\n",
       "       421, 376, 384, 395, 390, 409, 375, 400, 394, 396, 404, 386, 430,\n",
       "       412, 398, 396, 383, 396, 391, 416, 437, 387, 391, 395, 391, 407,\n",
       "       382, 396, 409, 408, 392, 394, 397, 396, 401, 405, 374, 388, 414,\n",
       "       405, 412, 378, 436, 393, 402, 393, 401, 380, 411, 390, 409, 404,\n",
       "       414, 399, 389, 410, 397, 400, 384, 417, 399, 396, 390, 378, 384,\n",
       "       392, 417, 374, 384, 400, 402, 378, 390, 409, 376, 395, 402, 405,\n",
       "       410, 382, 406, 373, 419, 401, 404, 386, 402, 362, 394, 422, 375,\n",
       "       401, 405, 401, 400, 411, 378, 383, 413, 414, 393, 406, 411, 396,\n",
       "       413, 383, 421, 403, 422, 397, 411, 361, 393, 416, 387, 401, 418,\n",
       "       423, 381, 397, 406, 415, 410, 397, 390, 388, 405, 396, 403, 402,\n",
       "       409, 386, 401, 399, 398, 402, 415, 417, 396, 381, 392, 387, 393,\n",
       "       388, 403, 397, 396, 415, 382, 412, 402, 409, 414, 406, 390, 391,\n",
       "       424, 413, 398, 390, 407, 421, 367, 387, 401, 389, 393, 376, 414,\n",
       "       376, 405, 409, 383, 402, 375, 407, 388, 423, 387, 426, 425, 400,\n",
       "       417, 394, 390, 413, 403, 406, 392, 407, 393, 405, 396, 423, 424,\n",
       "       407, 372, 376, 394, 364, 390, 385, 396, 405, 403, 426, 419, 424,\n",
       "       392, 396, 436, 369, 391, 369, 406, 388, 402, 405, 402, 413, 418,\n",
       "       416, 404, 397, 438, 411, 416, 382, 394, 379, 430, 398, 388, 406,\n",
       "       411, 410, 401, 410, 380, 405, 383, 405, 404, 373, 411, 429, 429,\n",
       "       434, 376, 415, 373, 391, 428, 417, 456, 381, 421, 388, 438, 386,\n",
       "       395, 380, 409, 386, 403, 412, 412, 384, 408, 385, 409, 407, 422,\n",
       "       412, 396, 403, 390, 426, 406, 408, 397, 392, 394, 388, 420, 393,\n",
       "       403, 419, 394, 385, 414, 400, 389, 410, 405, 394, 399, 416, 409,\n",
       "       389, 402, 426, 406, 399, 409, 385, 376, 410, 405, 424, 420, 380,\n",
       "       383, 428, 400, 401, 398, 406, 406, 387, 411, 406, 399, 389, 403,\n",
       "       411, 393, 399, 429, 405, 394, 397, 438, 424, 400, 403, 421, 378,\n",
       "       422, 408, 423, 410, 400, 365, 377, 368, 372, 399, 400, 400, 379,\n",
       "       420, 411, 429, 424, 404, 406, 390, 392, 386, 408, 398, 399, 407,\n",
       "       402, 390, 403, 374, 386, 416, 420, 407, 396, 380, 428, 378, 393,\n",
       "       386, 406, 420, 408, 393, 397, 364, 415, 379, 403, 390, 450, 407,\n",
       "       418, 403, 410, 405, 392, 401, 431, 420, 392, 413, 409, 391, 375,\n",
       "       416, 401, 404, 416, 403, 387, 409, 395, 394, 410, 394, 384, 422,\n",
       "       402, 409, 401, 392, 393, 384, 365, 406, 405, 405, 414, 399, 382,\n",
       "       405, 428, 403, 383, 397, 409, 401, 403, 404, 406, 417, 389, 398,\n",
       "       399, 402, 389, 392, 415, 393, 402, 414, 371, 411, 410, 410, 378,\n",
       "       412, 395, 401, 392, 397, 407, 382, 379, 375, 389, 390, 373, 415,\n",
       "       394, 415, 420, 415, 415, 386, 392, 421, 390, 384, 425, 385, 422,\n",
       "       371, 388, 393, 410, 401, 395, 380, 411, 402, 410, 398, 401, 420,\n",
       "       406, 375, 418, 384, 402, 401, 382, 386, 399, 402, 388, 418, 388,\n",
       "       433, 431, 415, 444, 388, 397, 388, 383, 390, 392, 388, 402])"
      ]
     },
     "execution_count": 19,
     "metadata": {},
     "output_type": "execute_result"
    }
   ],
   "source": [
    "n = 1000  #sample size\n",
    "p = 0.4 #sucess\n",
    "random_sample = np.random.binomial(n,p,size=n)\n",
    "random_sample"
   ]
  },
  {
   "cell_type": "code",
   "execution_count": 49,
   "id": "623362b6-441f-4f0d-97ab-535f09266f47",
   "metadata": {},
   "outputs": [
    {
     "data": {
      "text/plain": [
       "(array([ 36.,  83., 175., 343., 157.,  97.,  82.,  15.,   5.,   7.]),\n",
       " array([ 0. ,  1.3,  2.6,  3.9,  5.2,  6.5,  7.8,  9.1, 10.4, 11.7, 13. ]),\n",
       " <BarContainer object of 10 artists>)"
      ]
     },
     "execution_count": 49,
     "metadata": {},
     "output_type": "execute_result"
    },
    {
     "data": {
      "image/png": "[encoded data removed]",
      "text/plain": [
       "<Figure size 640x480 with 1 Axes>"
      ]
     },
     "metadata": {},
     "output_type": "display_data"
    }
   ],
   "source": [
    "import matplotlib.pyplot as plt\n",
    "plt.hist(random_sample,edgecolor='black',bins=10)"
   ]
  },
  {
   "cell_type": "code",
   "execution_count": null,
   "id": "4f5e5f3a-86b1-45d9-a4a1-089409f87737",
   "metadata": {},
   "outputs": [],
   "source": [
    "Q6. Write a Python function to calculate the cumulative distribution function of a Poisson distribution\n",
    "    with given mean at a given point."
   ]
  },
  {
   "cell_type": "code",
   "execution_count": 39,
   "id": "98ba0c9e-3070-47e9-8d1f-9153cecd3faf",
   "metadata": {},
   "outputs": [],
   "source": [
    "data = [1,3,5,3,1]\n",
    "mean = np.mean(data)"
   ]
  },
  {
   "cell_type": "code",
   "execution_count": 43,
   "id": "4f57c87f-9003-40f6-8416-ac6eb5266da1",
   "metadata": {},
   "outputs": [
    {
     "data": {
      "text/plain": [
       "0.9509628480130377"
      ]
     },
     "execution_count": 43,
     "metadata": {},
     "output_type": "execute_result"
    }
   ],
   "source": [
    "import scipy.stats as stats\n",
    "cdf = stats.poisson.cdf(5,mean)\n",
    "cdf"
   ]
  },
  {
   "cell_type": "code",
   "execution_count": null,
   "id": "2e116417-c3a8-45b2-a18a-951bf318dd73",
   "metadata": {},
   "outputs": [],
   "source": [
    "Q7. How Binomial distribution different from Poisson distribution?"
   ]
  },
  {
   "cell_type": "code",
   "execution_count": null,
   "id": "863e42c5-61a3-4be1-aaba-cb1434354cfc",
   "metadata": {},
   "outputs": [],
   "source": [
    "Ans: The main differences between Poisson distribution and binomial distribution are:\n",
    "     1.Poisson distribution is based on continuous events, \n",
    "       while binomial distribution is based on discrete events.\n",
    "     2.Poisson distribution has an infinite number of possible outcomes, \n",
    "       while binomial distribution has only two possible outcomes.\n",
    "     3.Poisson distribution has a single parameter (the average rate of occurrence),\n",
    "       while binomial distribution has two parameters (the number of trials and the probability of success).\n",
    "     4.Poisson distribution can be used to model any number of events that occur in a given time interval,\n",
    "       while binomial distribution can be used to model a fixed number of trials with a constant probability of success."
   ]
  },
  {
   "cell_type": "code",
   "execution_count": null,
   "id": "b8772cbc-e6c5-44ee-869f-60ddb5658dc8",
   "metadata": {},
   "outputs": [],
   "source": [
    "Q8. Generate a random sample of size 1000 from a Poisson distribution with mean 5 and calculate the\n",
    "    sample mean and variance."
   ]
  },
  {
   "cell_type": "code",
   "execution_count": 45,
   "id": "5b26fbd5-114a-4caa-9cf2-53866d63026e",
   "metadata": {},
   "outputs": [
    {
     "data": {
      "text/plain": [
       "array([ 4,  4,  3,  5,  5,  3,  6,  7,  5,  3,  3,  5,  9,  4,  9,  7,  4,\n",
       "        1,  2,  6,  5,  3,  4,  2,  7,  7,  3,  6,  5,  5,  4,  2,  3,  5,\n",
       "        5,  3,  3, 10,  8,  3,  4,  7,  3,  6,  3,  6,  3,  3, 11,  6,  3,\n",
       "        5,  6,  5,  6,  4,  5,  3,  4,  6,  5,  3,  5,  4,  3,  4,  7,  5,\n",
       "        4,  4,  8,  7,  8, 10,  2,  5,  2,  4,  5,  9,  6,  7,  7,  5,  7,\n",
       "        8,  8,  6,  5,  7,  6,  7,  4,  5,  8,  5,  4,  6,  6,  8,  2,  3,\n",
       "        1,  6,  5,  4,  4,  4, 10,  7,  4,  3,  6,  4,  5,  2,  7,  6,  9,\n",
       "        3,  5,  6,  2,  2,  3,  5,  6,  4,  5,  5,  3,  1,  7,  8,  3,  4,\n",
       "        5,  3,  8,  5,  7,  6,  8,  5,  3,  2,  4, 12,  7,  5,  4,  6,  3,\n",
       "        3,  3,  3,  6,  7,  2,  4,  3,  5,  6,  1,  2,  2,  4,  4,  7,  5,\n",
       "        5,  5,  4,  4,  6,  9,  6,  6,  8,  3,  5,  2,  2,  6,  8,  5,  6,\n",
       "        4,  5,  4,  5,  3,  4,  2,  6,  5,  6,  2,  5, 10,  6,  8,  4,  7,\n",
       "        5,  4,  6,  3,  3,  6,  4,  4,  2,  4,  5,  5,  3,  3,  3,  9,  6,\n",
       "        5,  7,  4,  4,  4,  6,  4,  6,  3,  3,  5,  7,  3,  7,  7,  6,  1,\n",
       "        4,  4,  6,  2,  2,  3,  7,  5,  4,  1,  3,  3,  9,  2,  2,  5,  4,\n",
       "        3, 10,  7,  5,  8,  6,  3,  4,  3, 13,  3,  6,  2,  4,  1,  4,  7,\n",
       "       10,  3,  4,  7,  2,  4,  5,  8,  3,  6,  6,  1,  6,  1,  8,  7,  5,\n",
       "        6,  8,  4,  6,  3,  7,  9,  7,  7,  6,  3,  3,  5,  7,  5,  7,  5,\n",
       "        4,  3,  2,  6,  4,  6,  6,  7,  5,  6,  4,  5,  7,  3,  4,  5,  5,\n",
       "        5,  6,  4,  6,  3,  5,  3,  4,  6,  4,  6, 11,  5,  5,  2,  3,  8,\n",
       "        6,  5,  7,  1,  4, 10,  8, 12,  7,  2,  5,  6,  1,  4,  3,  4,  3,\n",
       "       10,  6,  4,  5,  3,  4,  5,  7,  5,  4,  5,  6,  5,  6,  5,  6,  2,\n",
       "        6,  6,  3,  3,  1,  7,  5,  2,  5,  5,  1,  5,  6,  3,  6,  8,  5,\n",
       "        6,  6,  6,  4,  5,  4,  3,  6,  5,  6,  6,  4,  5,  4,  6,  5,  5,\n",
       "        8,  5,  4,  5,  1,  3,  3,  5,  4,  4,  3,  3,  7,  3,  3,  7,  3,\n",
       "        2,  3,  3,  3,  9,  6,  4,  4,  9,  3,  3,  6,  5,  6,  4,  5,  6,\n",
       "        5,  6,  7,  7,  2,  3,  3,  1,  5,  3,  7,  7,  5,  4,  2,  4,  5,\n",
       "        4,  6,  5,  5,  9,  3,  4,  4,  4,  4,  4,  4,  2,  3,  4,  7,  5,\n",
       "        5,  3,  3,  4,  1,  3,  8,  3,  9,  7,  8,  7,  4,  3,  4,  5,  3,\n",
       "        6,  4,  2,  6,  5,  5,  3,  2,  6,  5,  4,  3,  3,  6,  7,  3,  1,\n",
       "        6,  4,  4, 10,  6,  7, 11,  6,  4,  4, 12,  7,  5,  6,  3,  2,  4,\n",
       "        9,  6,  3,  3,  6,  6,  6,  9,  4,  7,  3,  8,  7,  4,  7,  3,  4,\n",
       "        1,  2,  3,  8,  5,  4,  8,  6,  7,  5,  7,  3,  2,  3,  3,  4,  4,\n",
       "        8,  9,  1,  2,  5,  3,  6,  8,  3,  1,  7,  4,  3,  2,  5,  7,  5,\n",
       "        5,  4,  3, 12,  9,  5,  5,  2,  7,  7,  8,  6,  6,  3,  3,  6,  8,\n",
       "        4,  3,  2,  3,  2, 10,  2,  6,  3,  3,  7,  7,  6,  6,  5,  4,  5,\n",
       "        5,  8, 12,  3,  4,  4,  7,  6,  6,  4,  7,  2,  4,  4,  6,  2,  3,\n",
       "        5,  3,  5,  7,  2,  2,  0,  2,  2,  4,  6,  1,  5,  4,  3,  2,  5,\n",
       "        8,  1,  5,  0,  8,  2,  8,  8,  3,  7,  4,  3,  3,  5,  2,  5,  4,\n",
       "        3,  8,  5,  3,  1,  7,  3,  9,  4,  3,  8,  6,  0,  4,  2,  7,  2,\n",
       "        5,  8,  2,  5,  6,  6,  6,  7,  9,  2,  4,  4,  4,  6,  6, 13,  4,\n",
       "        7,  8,  4,  9,  5,  1,  2,  6,  5,  4,  3,  7,  9,  7,  4,  5,  5,\n",
       "        6,  4,  3,  2,  4,  6,  2,  4,  4,  4,  8,  5, 10,  4,  5,  5,  2,\n",
       "        8,  2,  2,  3,  9,  2,  2,  3,  8,  4,  8,  4,  3,  6,  3,  3,  3,\n",
       "        5, 10,  3,  6,  3,  4,  3,  3,  9,  2, 10,  1,  4,  3,  4,  3,  2,\n",
       "        5,  4,  1,  2,  3,  7,  4,  3,  4,  4,  1, 10,  4,  6,  4,  5,  6,\n",
       "        4,  4,  2,  4,  3,  4,  3,  4,  5,  4,  6,  3,  7,  3,  7,  2,  7,\n",
       "       10,  1,  5,  5,  4,  2,  5,  6,  6,  1,  3,  4,  3,  8,  2,  3,  4,\n",
       "        5,  8,  2,  4,  6,  7,  6,  3,  2,  9,  5,  6,  6,  5,  5,  5,  7,\n",
       "        5,  7,  6,  3,  8,  3, 11,  3,  4,  6,  3,  7,  3,  8,  5,  7,  7,\n",
       "        6,  3,  1,  5,  8,  6, 11,  6,  6,  2,  0,  7,  4,  2,  5,  6,  3,\n",
       "        8,  7,  2,  4,  3,  3,  5,  3,  4,  5,  5,  8,  6,  6,  7,  4,  3,\n",
       "        3,  5,  2,  7,  8,  2,  6,  3,  4,  6,  6,  6,  6,  7,  7,  4,  4,\n",
       "        5,  5,  5,  3,  4,  6,  6,  6,  2,  4,  4,  6,  7,  6,  5,  5,  4,\n",
       "        7,  4,  3,  9,  3,  6,  4,  5,  3,  3,  9,  5,  4,  6,  7,  5,  2,\n",
       "        5,  3,  3,  5,  8,  7,  7,  5,  3,  6,  3,  4,  3,  5,  4,  3,  6,\n",
       "        2,  7,  4,  3,  6,  5,  5,  5,  5,  2,  5,  4,  9,  6,  6,  4,  9,\n",
       "        4,  3,  6,  8,  8,  6,  6,  5,  5,  6,  6,  5,  6,  8,  3,  3,  4,\n",
       "        3,  4,  5,  4,  1,  7,  1,  6,  7,  6,  4,  5,  6,  6])"
      ]
     },
     "execution_count": 45,
     "metadata": {},
     "output_type": "execute_result"
    }
   ],
   "source": [
    "n = 1000\n",
    "mean = 5\n",
    "random_sample = np.random.poisson(mean,size =n)\n",
    "random_sample"
   ]
  },
  {
   "cell_type": "code",
   "execution_count": 46,
   "id": "bd628bcd-6bd7-44d1-938b-da9496a79422",
   "metadata": {},
   "outputs": [
    {
     "data": {
      "text/plain": [
       "4.858"
      ]
     },
     "execution_count": 46,
     "metadata": {},
     "output_type": "execute_result"
    }
   ],
   "source": [
    "np.mean(random_sample)"
   ]
  },
  {
   "cell_type": "code",
   "execution_count": 47,
   "id": "a28a62e7-f3a6-4773-8e8b-5d9e44bd7e49",
   "metadata": {},
   "outputs": [
    {
     "data": {
      "text/plain": [
       "4.613835999999999"
      ]
     },
     "execution_count": 47,
     "metadata": {},
     "output_type": "execute_result"
    }
   ],
   "source": [
    "np.var(random_sample)"
   ]
  },
  {
   "cell_type": "code",
   "execution_count": null,
   "id": "0b47a6e3-e75c-47ee-8bc9-2385b5aa0dea",
   "metadata": {},
   "outputs": [],
   "source": [
    "Q9. How mean and variance are related in Binomial distribution and Poisson distribution?"
   ]
  },
  {
   "cell_type": "code",
   "execution_count": null,
   "id": "0a97169c-0103-4c34-92b0-921852d178eb",
   "metadata": {},
   "outputs": [],
   "source": [
    "Ans: The mean and variance are related in binomial distribution and Poisson distribution in the following ways:\n",
    "     In a binomial distribution, the mean is equal to the product of the number of trials (n) and the probability of success (p),\n",
    "     while the variance is equal to the product of the mean and the probability of failure,\n",
    "                                     (q = 1 - p)\n",
    "     Therefore, the mean is always greater than or equal to the variance in a binomial distribution. \n",
    "     The formula for the mean and variance of a binomial distribution are:\n",
    "\n",
    "                                      Mean=np\n",
    "                                      Variance=npq\n",
    "\n",
    "    In a Poisson distribution, the mean is equal to the rate parameter (λ), which is the average number of events\n",
    "    occurring in a given interval of time or space. The variance is also equal to λ, so the mean and variance are\n",
    "    always equal in a Poisson distribution. The formula for the mean and variance of a Poisson distribution are:\n",
    "\n",
    "                                      Mean=Variance=λ"
   ]
  },
  {
   "cell_type": "code",
   "execution_count": null,
   "id": "16ec504c-d631-480a-bc7e-ab15802bfc78",
   "metadata": {},
   "outputs": [],
   "source": [
    "Q10. In normal distribution with respect to mean position, where does the least frequent data appear?"
   ]
  },
  {
   "cell_type": "code",
   "execution_count": null,
   "id": "f04c94c6-b5ca-49bc-96c1-3f0282cc12a8",
   "metadata": {},
   "outputs": [],
   "source": [
    "Ans: In a normal distribution (also known as a Gaussian distribution), the least frequent data points \n",
    "     appear in the tails of the distribution, farthest away from the mean."
   ]
  }
 ],
 "metadata": {
  "kernelspec": {
   "display_name": "Python 3 (ipykernel)",
   "language": "python",
   "name": "python3"
  },
  "language_info": {
   "codemirror_mode": {
    "name": "ipython",
    "version": 3
   },
   "file_extension": ".py",
   "mimetype": "text/x-python",
   "name": "python",
   "nbconvert_exporter": "python",
   "pygments_lexer": "ipython3",
   "version": "3.10.8"
  }
 },
 "nbformat": 4,
 "nbformat_minor": 5
}
